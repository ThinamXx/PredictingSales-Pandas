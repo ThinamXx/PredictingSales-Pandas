{
  "nbformat": 4,
  "nbformat_minor": 0,
  "metadata": {
    "colab": {
      "name": "Predicting Sales: Pandas Basics",
      "provenance": []
    },
    "kernelspec": {
      "name": "python3",
      "display_name": "Python 3"
    },
    "accelerator": "GPU"
  },
  "cells": [
    {
      "cell_type": "markdown",
      "metadata": {
        "id": "Fc_ZnvPgdleF",
        "colab_type": "text"
      },
      "source": [
        "### **Initialization**"
      ]
    },
    {
      "cell_type": "code",
      "metadata": {
        "id": "YCfGy_iXVAi4",
        "colab_type": "code",
        "colab": {}
      },
      "source": [
        "## This Notebook is just the refreshment of Pandas Basics such as \"groupby\" ##\n",
        "# Initialization\n",
        "%reload_ext autoreload\n",
        "%autoreload 2\n",
        "%matplotlib inline"
      ],
      "execution_count": 1,
      "outputs": []
    },
    {
      "cell_type": "markdown",
      "metadata": {
        "id": "gnClqAKddqLM",
        "colab_type": "text"
      },
      "source": [
        "### **Downloading the Dependencies**"
      ]
    },
    {
      "cell_type": "code",
      "metadata": {
        "id": "2sut_9VVXbUU",
        "colab_type": "code",
        "colab": {}
      },
      "source": [
        "# Downloading the Dependencies\n",
        "import pandas as pd\n",
        "import numpy as np\n",
        "import os\n",
        "import matplotlib.pyplot as plt"
      ],
      "execution_count": 2,
      "outputs": []
    },
    {
      "cell_type": "markdown",
      "metadata": {
        "id": "F00_jIpjdx28",
        "colab_type": "text"
      },
      "source": [
        "### **Getting the Data**"
      ]
    },
    {
      "cell_type": "code",
      "metadata": {
        "id": "oXyr65F-Xs2Q",
        "colab_type": "code",
        "colab": {}
      },
      "source": [
        "# Getting the Data\n",
        "# I am doing this Project on Colab so, the process of reading Data might be different.\n",
        "path = \"/content/drive/My Drive/Predicting Future Sales\"\n",
        "\n",
        "\n",
        "# Creating the DataFrames\n",
        "transactions = pd.read_csv(os.path.join(path, \"sales_train.csv.gz\"))\n",
        "items = pd.read_csv(os.path.join(path, \"items.csv.zip\"))\n",
        "item_categories = pd.read_csv(os.path.join(path, \"item_categories.csv\"))\n",
        "shops = pd.read_csv(os.path.join(path, \"shops.csv\"))"
      ],
      "execution_count": 3,
      "outputs": []
    },
    {
      "cell_type": "markdown",
      "metadata": {
        "id": "p5qMIqyxd-H4",
        "colab_type": "text"
      },
      "source": [
        "### **Looking at the Data**"
      ]
    },
    {
      "cell_type": "code",
      "metadata": {
        "id": "fF1LVmjTaf7W",
        "colab_type": "code",
        "colab": {
          "base_uri": "https://localhost:8080/",
          "height": 204
        },
        "outputId": "25d059cd-f3c8-4d8b-b599-20682c740d13"
      },
      "source": [
        "# Inspecting and Observing the Data\n",
        "## Transactions DataFrame ## \n",
        "transactions.shape\n",
        "transactions.head()"
      ],
      "execution_count": 4,
      "outputs": [
        {
          "output_type": "execute_result",
          "data": {
            "text/html": [
              "<div>\n",
              "<style scoped>\n",
              "    .dataframe tbody tr th:only-of-type {\n",
              "        vertical-align: middle;\n",
              "    }\n",
              "\n",
              "    .dataframe tbody tr th {\n",
              "        vertical-align: top;\n",
              "    }\n",
              "\n",
              "    .dataframe thead th {\n",
              "        text-align: right;\n",
              "    }\n",
              "</style>\n",
              "<table border=\"1\" class=\"dataframe\">\n",
              "  <thead>\n",
              "    <tr style=\"text-align: right;\">\n",
              "      <th></th>\n",
              "      <th>date</th>\n",
              "      <th>date_block_num</th>\n",
              "      <th>shop_id</th>\n",
              "      <th>item_id</th>\n",
              "      <th>item_price</th>\n",
              "      <th>item_cnt_day</th>\n",
              "    </tr>\n",
              "  </thead>\n",
              "  <tbody>\n",
              "    <tr>\n",
              "      <th>0</th>\n",
              "      <td>02.01.2013</td>\n",
              "      <td>0</td>\n",
              "      <td>59</td>\n",
              "      <td>22154</td>\n",
              "      <td>999.00</td>\n",
              "      <td>1.0</td>\n",
              "    </tr>\n",
              "    <tr>\n",
              "      <th>1</th>\n",
              "      <td>03.01.2013</td>\n",
              "      <td>0</td>\n",
              "      <td>25</td>\n",
              "      <td>2552</td>\n",
              "      <td>899.00</td>\n",
              "      <td>1.0</td>\n",
              "    </tr>\n",
              "    <tr>\n",
              "      <th>2</th>\n",
              "      <td>05.01.2013</td>\n",
              "      <td>0</td>\n",
              "      <td>25</td>\n",
              "      <td>2552</td>\n",
              "      <td>899.00</td>\n",
              "      <td>-1.0</td>\n",
              "    </tr>\n",
              "    <tr>\n",
              "      <th>3</th>\n",
              "      <td>06.01.2013</td>\n",
              "      <td>0</td>\n",
              "      <td>25</td>\n",
              "      <td>2554</td>\n",
              "      <td>1709.05</td>\n",
              "      <td>1.0</td>\n",
              "    </tr>\n",
              "    <tr>\n",
              "      <th>4</th>\n",
              "      <td>15.01.2013</td>\n",
              "      <td>0</td>\n",
              "      <td>25</td>\n",
              "      <td>2555</td>\n",
              "      <td>1099.00</td>\n",
              "      <td>1.0</td>\n",
              "    </tr>\n",
              "  </tbody>\n",
              "</table>\n",
              "</div>"
            ],
            "text/plain": [
              "         date  date_block_num  shop_id  item_id  item_price  item_cnt_day\n",
              "0  02.01.2013               0       59    22154      999.00           1.0\n",
              "1  03.01.2013               0       25     2552      899.00           1.0\n",
              "2  05.01.2013               0       25     2552      899.00          -1.0\n",
              "3  06.01.2013               0       25     2554     1709.05           1.0\n",
              "4  15.01.2013               0       25     2555     1099.00           1.0"
            ]
          },
          "metadata": {
            "tags": []
          },
          "execution_count": 4
        }
      ]
    },
    {
      "cell_type": "code",
      "metadata": {
        "id": "ReWRGf--bLlo",
        "colab_type": "code",
        "colab": {
          "base_uri": "https://localhost:8080/",
          "height": 204
        },
        "outputId": "f4e5cd97-0fb6-40fd-8ef7-1a2f481f0858"
      },
      "source": [
        "## Items DataFrame ##\n",
        "items.shape\n",
        "items.head()"
      ],
      "execution_count": 5,
      "outputs": [
        {
          "output_type": "execute_result",
          "data": {
            "text/html": [
              "<div>\n",
              "<style scoped>\n",
              "    .dataframe tbody tr th:only-of-type {\n",
              "        vertical-align: middle;\n",
              "    }\n",
              "\n",
              "    .dataframe tbody tr th {\n",
              "        vertical-align: top;\n",
              "    }\n",
              "\n",
              "    .dataframe thead th {\n",
              "        text-align: right;\n",
              "    }\n",
              "</style>\n",
              "<table border=\"1\" class=\"dataframe\">\n",
              "  <thead>\n",
              "    <tr style=\"text-align: right;\">\n",
              "      <th></th>\n",
              "      <th>item_name</th>\n",
              "      <th>item_id</th>\n",
              "      <th>item_category_id</th>\n",
              "    </tr>\n",
              "  </thead>\n",
              "  <tbody>\n",
              "    <tr>\n",
              "      <th>0</th>\n",
              "      <td>! ВО ВЛАСТИ НАВАЖДЕНИЯ (ПЛАСТ.)         D</td>\n",
              "      <td>0</td>\n",
              "      <td>40</td>\n",
              "    </tr>\n",
              "    <tr>\n",
              "      <th>1</th>\n",
              "      <td>!ABBYY FineReader 12 Professional Edition Full...</td>\n",
              "      <td>1</td>\n",
              "      <td>76</td>\n",
              "    </tr>\n",
              "    <tr>\n",
              "      <th>2</th>\n",
              "      <td>***В ЛУЧАХ СЛАВЫ   (UNV)                    D</td>\n",
              "      <td>2</td>\n",
              "      <td>40</td>\n",
              "    </tr>\n",
              "    <tr>\n",
              "      <th>3</th>\n",
              "      <td>***ГОЛУБАЯ ВОЛНА  (Univ)                      D</td>\n",
              "      <td>3</td>\n",
              "      <td>40</td>\n",
              "    </tr>\n",
              "    <tr>\n",
              "      <th>4</th>\n",
              "      <td>***КОРОБКА (СТЕКЛО)                       D</td>\n",
              "      <td>4</td>\n",
              "      <td>40</td>\n",
              "    </tr>\n",
              "  </tbody>\n",
              "</table>\n",
              "</div>"
            ],
            "text/plain": [
              "                                           item_name  item_id  item_category_id\n",
              "0          ! ВО ВЛАСТИ НАВАЖДЕНИЯ (ПЛАСТ.)         D        0                40\n",
              "1  !ABBYY FineReader 12 Professional Edition Full...        1                76\n",
              "2      ***В ЛУЧАХ СЛАВЫ   (UNV)                    D        2                40\n",
              "3    ***ГОЛУБАЯ ВОЛНА  (Univ)                      D        3                40\n",
              "4        ***КОРОБКА (СТЕКЛО)                       D        4                40"
            ]
          },
          "metadata": {
            "tags": []
          },
          "execution_count": 5
        }
      ]
    },
    {
      "cell_type": "code",
      "metadata": {
        "id": "9U-xeUFSbdRB",
        "colab_type": "code",
        "colab": {
          "base_uri": "https://localhost:8080/",
          "height": 204
        },
        "outputId": "16f4a21a-2eae-4d5c-b922-fb302d02e06d"
      },
      "source": [
        "## Item Categories DataFrame ##\n",
        "item_categories.shape\n",
        "item_categories.head()"
      ],
      "execution_count": 6,
      "outputs": [
        {
          "output_type": "execute_result",
          "data": {
            "text/html": [
              "<div>\n",
              "<style scoped>\n",
              "    .dataframe tbody tr th:only-of-type {\n",
              "        vertical-align: middle;\n",
              "    }\n",
              "\n",
              "    .dataframe tbody tr th {\n",
              "        vertical-align: top;\n",
              "    }\n",
              "\n",
              "    .dataframe thead th {\n",
              "        text-align: right;\n",
              "    }\n",
              "</style>\n",
              "<table border=\"1\" class=\"dataframe\">\n",
              "  <thead>\n",
              "    <tr style=\"text-align: right;\">\n",
              "      <th></th>\n",
              "      <th>item_category_name</th>\n",
              "      <th>item_category_id</th>\n",
              "    </tr>\n",
              "  </thead>\n",
              "  <tbody>\n",
              "    <tr>\n",
              "      <th>0</th>\n",
              "      <td>PC - Гарнитуры/Наушники</td>\n",
              "      <td>0</td>\n",
              "    </tr>\n",
              "    <tr>\n",
              "      <th>1</th>\n",
              "      <td>Аксессуары - PS2</td>\n",
              "      <td>1</td>\n",
              "    </tr>\n",
              "    <tr>\n",
              "      <th>2</th>\n",
              "      <td>Аксессуары - PS3</td>\n",
              "      <td>2</td>\n",
              "    </tr>\n",
              "    <tr>\n",
              "      <th>3</th>\n",
              "      <td>Аксессуары - PS4</td>\n",
              "      <td>3</td>\n",
              "    </tr>\n",
              "    <tr>\n",
              "      <th>4</th>\n",
              "      <td>Аксессуары - PSP</td>\n",
              "      <td>4</td>\n",
              "    </tr>\n",
              "  </tbody>\n",
              "</table>\n",
              "</div>"
            ],
            "text/plain": [
              "        item_category_name  item_category_id\n",
              "0  PC - Гарнитуры/Наушники                 0\n",
              "1         Аксессуары - PS2                 1\n",
              "2         Аксессуары - PS3                 2\n",
              "3         Аксессуары - PS4                 3\n",
              "4         Аксессуары - PSP                 4"
            ]
          },
          "metadata": {
            "tags": []
          },
          "execution_count": 6
        }
      ]
    },
    {
      "cell_type": "code",
      "metadata": {
        "id": "SJ24DzGwbnsF",
        "colab_type": "code",
        "colab": {
          "base_uri": "https://localhost:8080/",
          "height": 204
        },
        "outputId": "12b000f9-71bc-4180-f1f5-45da33f2ea89"
      },
      "source": [
        "## Shops DataFrame ##\n",
        "shops.shape\n",
        "shops.head()"
      ],
      "execution_count": 7,
      "outputs": [
        {
          "output_type": "execute_result",
          "data": {
            "text/html": [
              "<div>\n",
              "<style scoped>\n",
              "    .dataframe tbody tr th:only-of-type {\n",
              "        vertical-align: middle;\n",
              "    }\n",
              "\n",
              "    .dataframe tbody tr th {\n",
              "        vertical-align: top;\n",
              "    }\n",
              "\n",
              "    .dataframe thead th {\n",
              "        text-align: right;\n",
              "    }\n",
              "</style>\n",
              "<table border=\"1\" class=\"dataframe\">\n",
              "  <thead>\n",
              "    <tr style=\"text-align: right;\">\n",
              "      <th></th>\n",
              "      <th>shop_name</th>\n",
              "      <th>shop_id</th>\n",
              "    </tr>\n",
              "  </thead>\n",
              "  <tbody>\n",
              "    <tr>\n",
              "      <th>0</th>\n",
              "      <td>!Якутск Орджоникидзе, 56 фран</td>\n",
              "      <td>0</td>\n",
              "    </tr>\n",
              "    <tr>\n",
              "      <th>1</th>\n",
              "      <td>!Якутск ТЦ \"Центральный\" фран</td>\n",
              "      <td>1</td>\n",
              "    </tr>\n",
              "    <tr>\n",
              "      <th>2</th>\n",
              "      <td>Адыгея ТЦ \"Мега\"</td>\n",
              "      <td>2</td>\n",
              "    </tr>\n",
              "    <tr>\n",
              "      <th>3</th>\n",
              "      <td>Балашиха ТРК \"Октябрь-Киномир\"</td>\n",
              "      <td>3</td>\n",
              "    </tr>\n",
              "    <tr>\n",
              "      <th>4</th>\n",
              "      <td>Волжский ТЦ \"Волга Молл\"</td>\n",
              "      <td>4</td>\n",
              "    </tr>\n",
              "  </tbody>\n",
              "</table>\n",
              "</div>"
            ],
            "text/plain": [
              "                        shop_name  shop_id\n",
              "0   !Якутск Орджоникидзе, 56 фран        0\n",
              "1   !Якутск ТЦ \"Центральный\" фран        1\n",
              "2                Адыгея ТЦ \"Мега\"        2\n",
              "3  Балашиха ТРК \"Октябрь-Киномир\"        3\n",
              "4        Волжский ТЦ \"Волга Молл\"        4"
            ]
          },
          "metadata": {
            "tags": []
          },
          "execution_count": 7
        }
      ]
    },
    {
      "cell_type": "markdown",
      "metadata": {
        "id": "oLZWYP8fhJZ6",
        "colab_type": "text"
      },
      "source": [
        "**What will be maximum Total Revenue among all shops in September, 2014 ?**\n"
      ]
    },
    {
      "cell_type": "code",
      "metadata": {
        "id": "IGe1q-zpbxom",
        "colab_type": "code",
        "colab": {
          "base_uri": "https://localhost:8080/",
          "height": 204
        },
        "outputId": "ddb58e93-3055-4ba0-c221-91b4051ed099"
      },
      "source": [
        "# What will be Total Revenue among all shops in September, 2014 ?\n",
        "# Changing into Datetime Object\n",
        "transactions[\"date\"] = pd.to_datetime(transactions[\"date\"], format=\"%d.%m.%Y\")\n",
        "transactions.head()"
      ],
      "execution_count": 8,
      "outputs": [
        {
          "output_type": "execute_result",
          "data": {
            "text/html": [
              "<div>\n",
              "<style scoped>\n",
              "    .dataframe tbody tr th:only-of-type {\n",
              "        vertical-align: middle;\n",
              "    }\n",
              "\n",
              "    .dataframe tbody tr th {\n",
              "        vertical-align: top;\n",
              "    }\n",
              "\n",
              "    .dataframe thead th {\n",
              "        text-align: right;\n",
              "    }\n",
              "</style>\n",
              "<table border=\"1\" class=\"dataframe\">\n",
              "  <thead>\n",
              "    <tr style=\"text-align: right;\">\n",
              "      <th></th>\n",
              "      <th>date</th>\n",
              "      <th>date_block_num</th>\n",
              "      <th>shop_id</th>\n",
              "      <th>item_id</th>\n",
              "      <th>item_price</th>\n",
              "      <th>item_cnt_day</th>\n",
              "    </tr>\n",
              "  </thead>\n",
              "  <tbody>\n",
              "    <tr>\n",
              "      <th>0</th>\n",
              "      <td>2013-01-02</td>\n",
              "      <td>0</td>\n",
              "      <td>59</td>\n",
              "      <td>22154</td>\n",
              "      <td>999.00</td>\n",
              "      <td>1.0</td>\n",
              "    </tr>\n",
              "    <tr>\n",
              "      <th>1</th>\n",
              "      <td>2013-01-03</td>\n",
              "      <td>0</td>\n",
              "      <td>25</td>\n",
              "      <td>2552</td>\n",
              "      <td>899.00</td>\n",
              "      <td>1.0</td>\n",
              "    </tr>\n",
              "    <tr>\n",
              "      <th>2</th>\n",
              "      <td>2013-01-05</td>\n",
              "      <td>0</td>\n",
              "      <td>25</td>\n",
              "      <td>2552</td>\n",
              "      <td>899.00</td>\n",
              "      <td>-1.0</td>\n",
              "    </tr>\n",
              "    <tr>\n",
              "      <th>3</th>\n",
              "      <td>2013-01-06</td>\n",
              "      <td>0</td>\n",
              "      <td>25</td>\n",
              "      <td>2554</td>\n",
              "      <td>1709.05</td>\n",
              "      <td>1.0</td>\n",
              "    </tr>\n",
              "    <tr>\n",
              "      <th>4</th>\n",
              "      <td>2013-01-15</td>\n",
              "      <td>0</td>\n",
              "      <td>25</td>\n",
              "      <td>2555</td>\n",
              "      <td>1099.00</td>\n",
              "      <td>1.0</td>\n",
              "    </tr>\n",
              "  </tbody>\n",
              "</table>\n",
              "</div>"
            ],
            "text/plain": [
              "        date  date_block_num  shop_id  item_id  item_price  item_cnt_day\n",
              "0 2013-01-02               0       59    22154      999.00           1.0\n",
              "1 2013-01-03               0       25     2552      899.00           1.0\n",
              "2 2013-01-05               0       25     2552      899.00          -1.0\n",
              "3 2013-01-06               0       25     2554     1709.05           1.0\n",
              "4 2013-01-15               0       25     2555     1099.00           1.0"
            ]
          },
          "metadata": {
            "tags": []
          },
          "execution_count": 8
        }
      ]
    },
    {
      "cell_type": "code",
      "metadata": {
        "id": "nZzu8X5EdLd1",
        "colab_type": "code",
        "colab": {
          "base_uri": "https://localhost:8080/",
          "height": 204
        },
        "outputId": "87e029d0-7c15-48bb-aad6-b690bf4d949c"
      },
      "source": [
        "# Selecting only the September of 2014\n",
        "date_range = pd.date_range(start=\"2014-09-01\", end=\"2014-09-30\")\n",
        "n_transactions = transactions[transactions['date'].isin(date_range)]\n",
        "n_transactions.head()"
      ],
      "execution_count": 9,
      "outputs": [
        {
          "output_type": "execute_result",
          "data": {
            "text/html": [
              "<div>\n",
              "<style scoped>\n",
              "    .dataframe tbody tr th:only-of-type {\n",
              "        vertical-align: middle;\n",
              "    }\n",
              "\n",
              "    .dataframe tbody tr th {\n",
              "        vertical-align: top;\n",
              "    }\n",
              "\n",
              "    .dataframe thead th {\n",
              "        text-align: right;\n",
              "    }\n",
              "</style>\n",
              "<table border=\"1\" class=\"dataframe\">\n",
              "  <thead>\n",
              "    <tr style=\"text-align: right;\">\n",
              "      <th></th>\n",
              "      <th>date</th>\n",
              "      <th>date_block_num</th>\n",
              "      <th>shop_id</th>\n",
              "      <th>item_id</th>\n",
              "      <th>item_price</th>\n",
              "      <th>item_cnt_day</th>\n",
              "    </tr>\n",
              "  </thead>\n",
              "  <tbody>\n",
              "    <tr>\n",
              "      <th>1953691</th>\n",
              "      <td>2014-09-24</td>\n",
              "      <td>20</td>\n",
              "      <td>5</td>\n",
              "      <td>1039</td>\n",
              "      <td>899.0</td>\n",
              "      <td>1.0</td>\n",
              "    </tr>\n",
              "    <tr>\n",
              "      <th>1953692</th>\n",
              "      <td>2014-09-27</td>\n",
              "      <td>20</td>\n",
              "      <td>5</td>\n",
              "      <td>1015</td>\n",
              "      <td>449.0</td>\n",
              "      <td>1.0</td>\n",
              "    </tr>\n",
              "    <tr>\n",
              "      <th>1953693</th>\n",
              "      <td>2014-09-07</td>\n",
              "      <td>20</td>\n",
              "      <td>5</td>\n",
              "      <td>1329</td>\n",
              "      <td>399.0</td>\n",
              "      <td>1.0</td>\n",
              "    </tr>\n",
              "    <tr>\n",
              "      <th>1953694</th>\n",
              "      <td>2014-09-27</td>\n",
              "      <td>20</td>\n",
              "      <td>5</td>\n",
              "      <td>984</td>\n",
              "      <td>399.0</td>\n",
              "      <td>1.0</td>\n",
              "    </tr>\n",
              "    <tr>\n",
              "      <th>1953695</th>\n",
              "      <td>2014-09-08</td>\n",
              "      <td>20</td>\n",
              "      <td>5</td>\n",
              "      <td>984</td>\n",
              "      <td>399.0</td>\n",
              "      <td>1.0</td>\n",
              "    </tr>\n",
              "  </tbody>\n",
              "</table>\n",
              "</div>"
            ],
            "text/plain": [
              "              date  date_block_num  shop_id  item_id  item_price  item_cnt_day\n",
              "1953691 2014-09-24              20        5     1039       899.0           1.0\n",
              "1953692 2014-09-27              20        5     1015       449.0           1.0\n",
              "1953693 2014-09-07              20        5     1329       399.0           1.0\n",
              "1953694 2014-09-27              20        5      984       399.0           1.0\n",
              "1953695 2014-09-08              20        5      984       399.0           1.0"
            ]
          },
          "metadata": {
            "tags": []
          },
          "execution_count": 9
        }
      ]
    },
    {
      "cell_type": "code",
      "metadata": {
        "id": "XX2OwJ93e7KU",
        "colab_type": "code",
        "colab": {
          "base_uri": "https://localhost:8080/",
          "height": 306
        },
        "outputId": "bfef7880-1149-49e0-9e13-9231f7a18ead"
      },
      "source": [
        "# Calculating the Total Sales in each day of September, 2014\n",
        "n_transactions[\"sale\"] = n_transactions[\"item_price\"] * n_transactions[\"item_cnt_day\"]\n",
        "n_transactions.head()"
      ],
      "execution_count": 10,
      "outputs": [
        {
          "output_type": "stream",
          "text": [
            "/usr/local/lib/python3.6/dist-packages/ipykernel_launcher.py:2: SettingWithCopyWarning: \n",
            "A value is trying to be set on a copy of a slice from a DataFrame.\n",
            "Try using .loc[row_indexer,col_indexer] = value instead\n",
            "\n",
            "See the caveats in the documentation: https://pandas.pydata.org/pandas-docs/stable/user_guide/indexing.html#returning-a-view-versus-a-copy\n",
            "  \n"
          ],
          "name": "stderr"
        },
        {
          "output_type": "execute_result",
          "data": {
            "text/html": [
              "<div>\n",
              "<style scoped>\n",
              "    .dataframe tbody tr th:only-of-type {\n",
              "        vertical-align: middle;\n",
              "    }\n",
              "\n",
              "    .dataframe tbody tr th {\n",
              "        vertical-align: top;\n",
              "    }\n",
              "\n",
              "    .dataframe thead th {\n",
              "        text-align: right;\n",
              "    }\n",
              "</style>\n",
              "<table border=\"1\" class=\"dataframe\">\n",
              "  <thead>\n",
              "    <tr style=\"text-align: right;\">\n",
              "      <th></th>\n",
              "      <th>date</th>\n",
              "      <th>date_block_num</th>\n",
              "      <th>shop_id</th>\n",
              "      <th>item_id</th>\n",
              "      <th>item_price</th>\n",
              "      <th>item_cnt_day</th>\n",
              "      <th>sale</th>\n",
              "    </tr>\n",
              "  </thead>\n",
              "  <tbody>\n",
              "    <tr>\n",
              "      <th>1953691</th>\n",
              "      <td>2014-09-24</td>\n",
              "      <td>20</td>\n",
              "      <td>5</td>\n",
              "      <td>1039</td>\n",
              "      <td>899.0</td>\n",
              "      <td>1.0</td>\n",
              "      <td>899.0</td>\n",
              "    </tr>\n",
              "    <tr>\n",
              "      <th>1953692</th>\n",
              "      <td>2014-09-27</td>\n",
              "      <td>20</td>\n",
              "      <td>5</td>\n",
              "      <td>1015</td>\n",
              "      <td>449.0</td>\n",
              "      <td>1.0</td>\n",
              "      <td>449.0</td>\n",
              "    </tr>\n",
              "    <tr>\n",
              "      <th>1953693</th>\n",
              "      <td>2014-09-07</td>\n",
              "      <td>20</td>\n",
              "      <td>5</td>\n",
              "      <td>1329</td>\n",
              "      <td>399.0</td>\n",
              "      <td>1.0</td>\n",
              "      <td>399.0</td>\n",
              "    </tr>\n",
              "    <tr>\n",
              "      <th>1953694</th>\n",
              "      <td>2014-09-27</td>\n",
              "      <td>20</td>\n",
              "      <td>5</td>\n",
              "      <td>984</td>\n",
              "      <td>399.0</td>\n",
              "      <td>1.0</td>\n",
              "      <td>399.0</td>\n",
              "    </tr>\n",
              "    <tr>\n",
              "      <th>1953695</th>\n",
              "      <td>2014-09-08</td>\n",
              "      <td>20</td>\n",
              "      <td>5</td>\n",
              "      <td>984</td>\n",
              "      <td>399.0</td>\n",
              "      <td>1.0</td>\n",
              "      <td>399.0</td>\n",
              "    </tr>\n",
              "  </tbody>\n",
              "</table>\n",
              "</div>"
            ],
            "text/plain": [
              "              date  date_block_num  shop_id  ...  item_price  item_cnt_day   sale\n",
              "1953691 2014-09-24              20        5  ...       899.0           1.0  899.0\n",
              "1953692 2014-09-27              20        5  ...       449.0           1.0  449.0\n",
              "1953693 2014-09-07              20        5  ...       399.0           1.0  399.0\n",
              "1953694 2014-09-27              20        5  ...       399.0           1.0  399.0\n",
              "1953695 2014-09-08              20        5  ...       399.0           1.0  399.0\n",
              "\n",
              "[5 rows x 7 columns]"
            ]
          },
          "metadata": {
            "tags": []
          },
          "execution_count": 10
        }
      ]
    },
    {
      "cell_type": "code",
      "metadata": {
        "id": "3XBQgO7yfjvF",
        "colab_type": "code",
        "colab": {
          "base_uri": "https://localhost:8080/",
          "height": 34
        },
        "outputId": "c089b53d-9c31-4f39-d9b2-7a750e170b5f"
      },
      "source": [
        "# Calculating the Total Revenues\n",
        "revenue = n_transactions[\"sale\"].groupby(n_transactions[\"shop_id\"]).sum()\n",
        "print(f\"Total Maximum Revenue in Sep,2014 is {revenue.max()} from shop {revenue.idxmax()}\")"
      ],
      "execution_count": 11,
      "outputs": [
        {
          "output_type": "stream",
          "text": [
            "Total Maximum Revenue in Sep,2014 is 7982852.199999956 from shop 31\n"
          ],
          "name": "stdout"
        }
      ]
    },
    {
      "cell_type": "markdown",
      "metadata": {
        "id": "Me6U2XuEhNvC",
        "colab_type": "text"
      },
      "source": [
        "**Which Item generated the Highest Revenue in summer, 2014?**"
      ]
    },
    {
      "cell_type": "code",
      "metadata": {
        "id": "6u3r7QmTgqcW",
        "colab_type": "code",
        "colab": {
          "base_uri": "https://localhost:8080/",
          "height": 204
        },
        "outputId": "26ad3f4c-f86a-4885-f9a2-69e99517a6f6"
      },
      "source": [
        "# Which item generated the Highest Revenue in summer, 2014?\n",
        "# Changing the datarange\n",
        "date_range = pd.date_range(start='2014-06-01', end=\"2014-08-30\")\n",
        "nn_transactions = transactions[transactions[\"date\"].isin(date_range)]\n",
        "i_transactions = pd.merge(nn_transactions, items, how=\"inner\", on=\"item_id\")\n",
        "i_transactions.head()"
      ],
      "execution_count": 12,
      "outputs": [
        {
          "output_type": "execute_result",
          "data": {
            "text/html": [
              "<div>\n",
              "<style scoped>\n",
              "    .dataframe tbody tr th:only-of-type {\n",
              "        vertical-align: middle;\n",
              "    }\n",
              "\n",
              "    .dataframe tbody tr th {\n",
              "        vertical-align: top;\n",
              "    }\n",
              "\n",
              "    .dataframe thead th {\n",
              "        text-align: right;\n",
              "    }\n",
              "</style>\n",
              "<table border=\"1\" class=\"dataframe\">\n",
              "  <thead>\n",
              "    <tr style=\"text-align: right;\">\n",
              "      <th></th>\n",
              "      <th>date</th>\n",
              "      <th>date_block_num</th>\n",
              "      <th>shop_id</th>\n",
              "      <th>item_id</th>\n",
              "      <th>item_price</th>\n",
              "      <th>item_cnt_day</th>\n",
              "      <th>item_name</th>\n",
              "      <th>item_category_id</th>\n",
              "    </tr>\n",
              "  </thead>\n",
              "  <tbody>\n",
              "    <tr>\n",
              "      <th>0</th>\n",
              "      <td>2014-06-15</td>\n",
              "      <td>17</td>\n",
              "      <td>26</td>\n",
              "      <td>9532</td>\n",
              "      <td>399.0</td>\n",
              "      <td>1.0</td>\n",
              "      <td>В тылу врага: Штурм 2 [PC, Jewel, русская версия]</td>\n",
              "      <td>30</td>\n",
              "    </tr>\n",
              "    <tr>\n",
              "      <th>1</th>\n",
              "      <td>2014-06-03</td>\n",
              "      <td>17</td>\n",
              "      <td>26</td>\n",
              "      <td>9532</td>\n",
              "      <td>399.0</td>\n",
              "      <td>1.0</td>\n",
              "      <td>В тылу врага: Штурм 2 [PC, Jewel, русская версия]</td>\n",
              "      <td>30</td>\n",
              "    </tr>\n",
              "    <tr>\n",
              "      <th>2</th>\n",
              "      <td>2014-06-08</td>\n",
              "      <td>17</td>\n",
              "      <td>26</td>\n",
              "      <td>9532</td>\n",
              "      <td>399.0</td>\n",
              "      <td>1.0</td>\n",
              "      <td>В тылу врага: Штурм 2 [PC, Jewel, русская версия]</td>\n",
              "      <td>30</td>\n",
              "    </tr>\n",
              "    <tr>\n",
              "      <th>3</th>\n",
              "      <td>2014-06-11</td>\n",
              "      <td>17</td>\n",
              "      <td>26</td>\n",
              "      <td>9532</td>\n",
              "      <td>399.0</td>\n",
              "      <td>1.0</td>\n",
              "      <td>В тылу врага: Штурм 2 [PC, Jewel, русская версия]</td>\n",
              "      <td>30</td>\n",
              "    </tr>\n",
              "    <tr>\n",
              "      <th>4</th>\n",
              "      <td>2014-06-19</td>\n",
              "      <td>17</td>\n",
              "      <td>26</td>\n",
              "      <td>9532</td>\n",
              "      <td>399.0</td>\n",
              "      <td>1.0</td>\n",
              "      <td>В тылу врага: Штурм 2 [PC, Jewel, русская версия]</td>\n",
              "      <td>30</td>\n",
              "    </tr>\n",
              "  </tbody>\n",
              "</table>\n",
              "</div>"
            ],
            "text/plain": [
              "        date  ...  item_category_id\n",
              "0 2014-06-15  ...                30\n",
              "1 2014-06-03  ...                30\n",
              "2 2014-06-08  ...                30\n",
              "3 2014-06-11  ...                30\n",
              "4 2014-06-19  ...                30\n",
              "\n",
              "[5 rows x 8 columns]"
            ]
          },
          "metadata": {
            "tags": []
          },
          "execution_count": 12
        }
      ]
    },
    {
      "cell_type": "code",
      "metadata": {
        "id": "Vh2bA1whjC-T",
        "colab_type": "code",
        "colab": {
          "base_uri": "https://localhost:8080/",
          "height": 142
        },
        "outputId": "0a1e2c3e-5b37-42d1-8513-80365ef8b3ff"
      },
      "source": [
        "# Calculating the Revenue / Sales\n",
        "i_transactions[\"sale\"] = i_transactions[\"item_price\"] * i_transactions[\"item_cnt_day\"]\n",
        "i_transactions.head(3)"
      ],
      "execution_count": 13,
      "outputs": [
        {
          "output_type": "execute_result",
          "data": {
            "text/html": [
              "<div>\n",
              "<style scoped>\n",
              "    .dataframe tbody tr th:only-of-type {\n",
              "        vertical-align: middle;\n",
              "    }\n",
              "\n",
              "    .dataframe tbody tr th {\n",
              "        vertical-align: top;\n",
              "    }\n",
              "\n",
              "    .dataframe thead th {\n",
              "        text-align: right;\n",
              "    }\n",
              "</style>\n",
              "<table border=\"1\" class=\"dataframe\">\n",
              "  <thead>\n",
              "    <tr style=\"text-align: right;\">\n",
              "      <th></th>\n",
              "      <th>date</th>\n",
              "      <th>date_block_num</th>\n",
              "      <th>shop_id</th>\n",
              "      <th>item_id</th>\n",
              "      <th>item_price</th>\n",
              "      <th>item_cnt_day</th>\n",
              "      <th>item_name</th>\n",
              "      <th>item_category_id</th>\n",
              "      <th>sale</th>\n",
              "    </tr>\n",
              "  </thead>\n",
              "  <tbody>\n",
              "    <tr>\n",
              "      <th>0</th>\n",
              "      <td>2014-06-15</td>\n",
              "      <td>17</td>\n",
              "      <td>26</td>\n",
              "      <td>9532</td>\n",
              "      <td>399.0</td>\n",
              "      <td>1.0</td>\n",
              "      <td>В тылу врага: Штурм 2 [PC, Jewel, русская версия]</td>\n",
              "      <td>30</td>\n",
              "      <td>399.0</td>\n",
              "    </tr>\n",
              "    <tr>\n",
              "      <th>1</th>\n",
              "      <td>2014-06-03</td>\n",
              "      <td>17</td>\n",
              "      <td>26</td>\n",
              "      <td>9532</td>\n",
              "      <td>399.0</td>\n",
              "      <td>1.0</td>\n",
              "      <td>В тылу врага: Штурм 2 [PC, Jewel, русская версия]</td>\n",
              "      <td>30</td>\n",
              "      <td>399.0</td>\n",
              "    </tr>\n",
              "    <tr>\n",
              "      <th>2</th>\n",
              "      <td>2014-06-08</td>\n",
              "      <td>17</td>\n",
              "      <td>26</td>\n",
              "      <td>9532</td>\n",
              "      <td>399.0</td>\n",
              "      <td>1.0</td>\n",
              "      <td>В тылу врага: Штурм 2 [PC, Jewel, русская версия]</td>\n",
              "      <td>30</td>\n",
              "      <td>399.0</td>\n",
              "    </tr>\n",
              "  </tbody>\n",
              "</table>\n",
              "</div>"
            ],
            "text/plain": [
              "        date  date_block_num  ...  item_category_id   sale\n",
              "0 2014-06-15              17  ...                30  399.0\n",
              "1 2014-06-03              17  ...                30  399.0\n",
              "2 2014-06-08              17  ...                30  399.0\n",
              "\n",
              "[3 rows x 9 columns]"
            ]
          },
          "metadata": {
            "tags": []
          },
          "execution_count": 13
        }
      ]
    },
    {
      "cell_type": "code",
      "metadata": {
        "id": "3Ud0BsvzjfsZ",
        "colab_type": "code",
        "colab": {
          "base_uri": "https://localhost:8080/",
          "height": 34
        },
        "outputId": "6f7c75d0-efe2-4847-b276-4306f09d0542"
      },
      "source": [
        "# Calculating the Highest Revenue on Items\n",
        "item_rev = i_transactions[\"sale\"].groupby(i_transactions[\"item_category_id\"]).sum()\n",
        "print(f\"Highest Revenue was collected form item {item_rev.idxmax()}\")"
      ],
      "execution_count": 14,
      "outputs": [
        {
          "output_type": "stream",
          "text": [
            "Highest Revenue was collected form item 20\n"
          ],
          "name": "stdout"
        }
      ]
    },
    {
      "cell_type": "markdown",
      "metadata": {
        "id": "t5wQ9u9hkvzm",
        "colab_type": "text"
      },
      "source": [
        "**How many Items remain, or Price remains constant during whole period of time?**\n"
      ]
    },
    {
      "cell_type": "code",
      "metadata": {
        "id": "Cm4XFE26kQI3",
        "colab_type": "code",
        "colab": {
          "base_uri": "https://localhost:8080/",
          "height": 142
        },
        "outputId": "a21828ae-0da0-41a3-9ad4-f571b02ac0a8"
      },
      "source": [
        "# Observing the Transactions DataFrame again.\n",
        "transactions.head(3)"
      ],
      "execution_count": 15,
      "outputs": [
        {
          "output_type": "execute_result",
          "data": {
            "text/html": [
              "<div>\n",
              "<style scoped>\n",
              "    .dataframe tbody tr th:only-of-type {\n",
              "        vertical-align: middle;\n",
              "    }\n",
              "\n",
              "    .dataframe tbody tr th {\n",
              "        vertical-align: top;\n",
              "    }\n",
              "\n",
              "    .dataframe thead th {\n",
              "        text-align: right;\n",
              "    }\n",
              "</style>\n",
              "<table border=\"1\" class=\"dataframe\">\n",
              "  <thead>\n",
              "    <tr style=\"text-align: right;\">\n",
              "      <th></th>\n",
              "      <th>date</th>\n",
              "      <th>date_block_num</th>\n",
              "      <th>shop_id</th>\n",
              "      <th>item_id</th>\n",
              "      <th>item_price</th>\n",
              "      <th>item_cnt_day</th>\n",
              "    </tr>\n",
              "  </thead>\n",
              "  <tbody>\n",
              "    <tr>\n",
              "      <th>0</th>\n",
              "      <td>2013-01-02</td>\n",
              "      <td>0</td>\n",
              "      <td>59</td>\n",
              "      <td>22154</td>\n",
              "      <td>999.0</td>\n",
              "      <td>1.0</td>\n",
              "    </tr>\n",
              "    <tr>\n",
              "      <th>1</th>\n",
              "      <td>2013-01-03</td>\n",
              "      <td>0</td>\n",
              "      <td>25</td>\n",
              "      <td>2552</td>\n",
              "      <td>899.0</td>\n",
              "      <td>1.0</td>\n",
              "    </tr>\n",
              "    <tr>\n",
              "      <th>2</th>\n",
              "      <td>2013-01-05</td>\n",
              "      <td>0</td>\n",
              "      <td>25</td>\n",
              "      <td>2552</td>\n",
              "      <td>899.0</td>\n",
              "      <td>-1.0</td>\n",
              "    </tr>\n",
              "  </tbody>\n",
              "</table>\n",
              "</div>"
            ],
            "text/plain": [
              "        date  date_block_num  shop_id  item_id  item_price  item_cnt_day\n",
              "0 2013-01-02               0       59    22154       999.0           1.0\n",
              "1 2013-01-03               0       25     2552       899.0           1.0\n",
              "2 2013-01-05               0       25     2552       899.0          -1.0"
            ]
          },
          "metadata": {
            "tags": []
          },
          "execution_count": 15
        }
      ]
    },
    {
      "cell_type": "code",
      "metadata": {
        "id": "Vp237b1Blhj2",
        "colab_type": "code",
        "colab": {
          "base_uri": "https://localhost:8080/",
          "height": 34
        },
        "outputId": "e8dec4f5-87ae-4983-911a-e842b79948de"
      },
      "source": [
        "# Calculating the number of Items whose price remains constant during Whole Period of Time.\n",
        "separate = transactions[\"item_price\"].groupby(transactions[\"item_id\"])\n",
        "nums = []\n",
        "for idx, sep in separate:\n",
        "  if len(sep.unique()) == 1:\n",
        "    nums.append(idx)\n",
        "\n",
        "print(f\"Number of Items whose Price remains constant during whole time is {len(nums)}\")"
      ],
      "execution_count": 16,
      "outputs": [
        {
          "output_type": "stream",
          "text": [
            "Number of Items whose Price remains constant during whole time is 5926\n"
          ],
          "name": "stdout"
        }
      ]
    },
    {
      "cell_type": "markdown",
      "metadata": {
        "id": "6yylZbTrnm_z",
        "colab_type": "text"
      },
      "source": [
        "**What was the variance of the Number of Items sold per day per sequence for the particular shop on December, 2014?**"
      ]
    },
    {
      "cell_type": "code",
      "metadata": {
        "id": "16OsV0iinY9k",
        "colab_type": "code",
        "colab": {
          "base_uri": "https://localhost:8080/",
          "height": 204
        },
        "outputId": "65788d14-7b9a-416e-ab4c-8df37ff016c4"
      },
      "source": [
        "# Calculating the Variance of the number of Items sold per day per sequence for the shop, 25\n",
        "# Creating the new date_range\n",
        "date_range = pd.date_range(start=\"2014-12-01\", end=\"2014-12-31\")\n",
        "dec_transactions = transactions[transactions[\"date\"].isin(date_range)]\n",
        "dec_transactions = dec_transactions[dec_transactions[\"shop_id\"] == 25]\n",
        "dec_transactions.head()"
      ],
      "execution_count": 19,
      "outputs": [
        {
          "output_type": "execute_result",
          "data": {
            "text/html": [
              "<div>\n",
              "<style scoped>\n",
              "    .dataframe tbody tr th:only-of-type {\n",
              "        vertical-align: middle;\n",
              "    }\n",
              "\n",
              "    .dataframe tbody tr th {\n",
              "        vertical-align: top;\n",
              "    }\n",
              "\n",
              "    .dataframe thead th {\n",
              "        text-align: right;\n",
              "    }\n",
              "</style>\n",
              "<table border=\"1\" class=\"dataframe\">\n",
              "  <thead>\n",
              "    <tr style=\"text-align: right;\">\n",
              "      <th></th>\n",
              "      <th>date</th>\n",
              "      <th>date_block_num</th>\n",
              "      <th>shop_id</th>\n",
              "      <th>item_id</th>\n",
              "      <th>item_price</th>\n",
              "      <th>item_cnt_day</th>\n",
              "    </tr>\n",
              "  </thead>\n",
              "  <tbody>\n",
              "    <tr>\n",
              "      <th>2295837</th>\n",
              "      <td>2014-12-14</td>\n",
              "      <td>23</td>\n",
              "      <td>25</td>\n",
              "      <td>21752</td>\n",
              "      <td>399.0</td>\n",
              "      <td>1.0</td>\n",
              "    </tr>\n",
              "    <tr>\n",
              "      <th>2295838</th>\n",
              "      <td>2014-12-13</td>\n",
              "      <td>23</td>\n",
              "      <td>25</td>\n",
              "      <td>21752</td>\n",
              "      <td>399.0</td>\n",
              "      <td>3.0</td>\n",
              "    </tr>\n",
              "    <tr>\n",
              "      <th>2295839</th>\n",
              "      <td>2014-12-26</td>\n",
              "      <td>23</td>\n",
              "      <td>25</td>\n",
              "      <td>21733</td>\n",
              "      <td>149.0</td>\n",
              "      <td>1.0</td>\n",
              "    </tr>\n",
              "    <tr>\n",
              "      <th>2295840</th>\n",
              "      <td>2014-12-31</td>\n",
              "      <td>23</td>\n",
              "      <td>25</td>\n",
              "      <td>21732</td>\n",
              "      <td>149.0</td>\n",
              "      <td>1.0</td>\n",
              "    </tr>\n",
              "    <tr>\n",
              "      <th>2295841</th>\n",
              "      <td>2014-12-30</td>\n",
              "      <td>23</td>\n",
              "      <td>25</td>\n",
              "      <td>21726</td>\n",
              "      <td>149.0</td>\n",
              "      <td>1.0</td>\n",
              "    </tr>\n",
              "  </tbody>\n",
              "</table>\n",
              "</div>"
            ],
            "text/plain": [
              "              date  date_block_num  shop_id  item_id  item_price  item_cnt_day\n",
              "2295837 2014-12-14              23       25    21752       399.0           1.0\n",
              "2295838 2014-12-13              23       25    21752       399.0           3.0\n",
              "2295839 2014-12-26              23       25    21733       149.0           1.0\n",
              "2295840 2014-12-31              23       25    21732       149.0           1.0\n",
              "2295841 2014-12-30              23       25    21726       149.0           1.0"
            ]
          },
          "metadata": {
            "tags": []
          },
          "execution_count": 19
        }
      ]
    },
    {
      "cell_type": "code",
      "metadata": {
        "id": "u3xB-rE7r9tM",
        "colab_type": "code",
        "colab": {
          "base_uri": "https://localhost:8080/",
          "height": 34
        },
        "outputId": "b2453de9-2f7f-49c1-8a2f-9ae27f03d2e9"
      },
      "source": [
        "groups = dec_transactions[\"item_cnt_day\"].groupby(dec_transactions[\"date\"]).sum()\n",
        "print(f'Variance of the Items sold is {groups.var()}')\n"
      ],
      "execution_count": 20,
      "outputs": [
        {
          "output_type": "stream",
          "text": [
            "Variance of the Items sold is 117167.70229885059\n"
          ],
          "name": "stdout"
        }
      ]
    },
    {
      "cell_type": "markdown",
      "metadata": {
        "id": "zCRCTPf-s5lf",
        "colab_type": "text"
      },
      "source": [
        "### **Plotting the Items sold vs Days**"
      ]
    },
    {
      "cell_type": "code",
      "metadata": {
        "id": "uofOoYkqs0gD",
        "colab_type": "code",
        "colab": {
          "base_uri": "https://localhost:8080/",
          "height": 621
        },
        "outputId": "d9502198-abd9-4d6d-c3d7-06df4dde3714"
      },
      "source": [
        "num_sold = groups.values\n",
        "days = groups.index\n",
        "\n",
        "# Plotting the Lineplot\n",
        "plt.figure(figsize=(12, 10))\n",
        "plt.plot(days, num_sold)\n",
        "plt.xlabel(\"Day\")\n",
        "plt.ylabel(\"Number of Items sold\")\n",
        "plt.title(\"Daily Revenue\")\n",
        "plt.show()"
      ],
      "execution_count": 26,
      "outputs": [
        {
          "output_type": "display_data",
          "data": {
            "image/png": "[encoded data removed]",
            "text/plain": [
              "<Figure size 864x720 with 1 Axes>"
            ]
          },
          "metadata": {
            "tags": [],
            "needs_background": "light"
          }
        }
      ]
    }
  ]
}